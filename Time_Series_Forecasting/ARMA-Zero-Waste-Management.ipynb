{
 "cells": [
  {
   "cell_type": "code",
   "execution_count": 14,
   "id": "46727f8e",
   "metadata": {},
   "outputs": [
    {
     "name": "stdout",
     "output_type": "stream",
     "text": [
      "Training Columns: 292\n",
      "Testing Columns: 73\n"
     ]
    }
   ],
   "source": [
    "import pandas as pd\n",
    "import numpy as np\n",
    "import matplotlib.pyplot as plt\n",
    "\n",
    "from statsmodels.tsa.ar_model import AutoReg\n",
    "from sklearn.metrics import mean_squared_error,mean_absolute_error,mean_absolute_percentage_error\n",
    "\n",
    "import random\n",
    "import warnings\n",
    "from sklearn.metrics import mean_squared_error\n",
    "from statsmodels.tsa.arima.model import ARIMA\n",
    "warnings.filterwarnings(\"ignore\")\n",
    "\n",
    "# load your time series data into a Pandas DataFrame or Series\n",
    "data = pd.read_csv(\"./df_date_item_no.csv\", index_col=0)\n",
    "\n",
    "# data.index.freq = 'D'\n",
    "\n",
    "data = data.rename_axis('date', axis=1)\n",
    "# change the datatype of the index to datetime\n",
    "data.index = pd.to_datetime(data.index, format='%Y-%m-%d')\n",
    "\n",
    "\n",
    "# split your data into training and testing sets\n",
    "from sklearn.model_selection import train_test_split\n",
    "item_name = 'whole milk'\n",
    "order = '2d'\n",
    "data = data[[item_name,]].resample(order).sum()\n",
    "train_data, test_data = train_test_split(data, test_size=0.2, shuffle=False)\n",
    "data.head()\n",
    "#create a test train split\n",
    "from sklearn.model_selection import train_test_split\n",
    "train, test = train_test_split(data, test_size=0.2, shuffle=False)\n",
    "len_train = len(train)\n",
    "len_test = len(test)\n",
    "print(f\"Training Columns: {len_train}\\nTesting Columns: {len_test}\")\n",
    "\n",
    "\n",
    "\"\"\"\n",
    "    defining parameter space, since we are use ARMA model, 'd' must be set to 0\n",
    "\"\"\"\n",
    "PARAMETER_SPACE = {\n",
    "    'p': range(1, 5),\n",
    "    'd': 0,\n",
    "    'q': range(1, 5)\n",
    "}\n",
    "\n",
    "def objective_function(params):\n",
    "    p, d, q = params['p'], params['d'], params['q']\n",
    "    model = ARIMA(train, order=(p, d, q))\n",
    "    model_fit = model.fit()\n",
    "\n",
    "    forecast_order = model_fit.forecast(steps=len_test)\n",
    "    mse = mean_squared_error(test, forecast_order)\n",
    "    return mse\n",
    "\n",
    "\n",
    "\"\"\"\n",
    "    use genetic algorithm to make predictions from trained model\n",
    "\"\"\"\n"
   ]
  },
  {
   "cell_type": "code",
   "execution_count": null,
   "id": "bddd68fa",
   "metadata": {},
   "outputs": [],
   "source": []
  }
 ],
 "metadata": {
  "kernelspec": {
   "display_name": "Python 3 (ipykernel)",
   "language": "python",
   "name": "python3"
  },
  "language_info": {
   "codemirror_mode": {
    "name": "ipython",
    "version": 3
   },
   "file_extension": ".py",
   "mimetype": "text/x-python",
   "name": "python",
   "nbconvert_exporter": "python",
   "pygments_lexer": "ipython3",
   "version": "3.9.13"
  }
 },
 "nbformat": 4,
 "nbformat_minor": 5
}
