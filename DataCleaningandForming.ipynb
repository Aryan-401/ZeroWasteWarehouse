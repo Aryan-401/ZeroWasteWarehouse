{
 "cells": [
  {
   "cell_type": "code",
   "execution_count": 1,
   "outputs": [],
   "source": [
    "import pandas as pd\n",
    "import numpy as np"
   ],
   "metadata": {
    "collapsed": false,
    "ExecuteTime": {
     "start_time": "2023-04-16T23:13:42.798347Z",
     "end_time": "2023-04-16T23:13:43.253787Z"
    }
   }
  },
  {
   "cell_type": "code",
   "execution_count": 2,
   "outputs": [
    {
     "data": {
      "text/plain": "   Member_number        Date   itemDescription\n0           1808  21-07-2015    tropical fruit\n1           2552  05-01-2015        whole milk\n2           2300  19-09-2015         pip fruit\n3           1187  12-12-2015  other vegetables\n4           3037  01-02-2015        whole milk",
      "text/html": "<div>\n<style scoped>\n    .dataframe tbody tr th:only-of-type {\n        vertical-align: middle;\n    }\n\n    .dataframe tbody tr th {\n        vertical-align: top;\n    }\n\n    .dataframe thead th {\n        text-align: right;\n    }\n</style>\n<table border=\"1\" class=\"dataframe\">\n  <thead>\n    <tr style=\"text-align: right;\">\n      <th></th>\n      <th>Member_number</th>\n      <th>Date</th>\n      <th>itemDescription</th>\n    </tr>\n  </thead>\n  <tbody>\n    <tr>\n      <th>0</th>\n      <td>1808</td>\n      <td>21-07-2015</td>\n      <td>tropical fruit</td>\n    </tr>\n    <tr>\n      <th>1</th>\n      <td>2552</td>\n      <td>05-01-2015</td>\n      <td>whole milk</td>\n    </tr>\n    <tr>\n      <th>2</th>\n      <td>2300</td>\n      <td>19-09-2015</td>\n      <td>pip fruit</td>\n    </tr>\n    <tr>\n      <th>3</th>\n      <td>1187</td>\n      <td>12-12-2015</td>\n      <td>other vegetables</td>\n    </tr>\n    <tr>\n      <th>4</th>\n      <td>3037</td>\n      <td>01-02-2015</td>\n      <td>whole milk</td>\n    </tr>\n  </tbody>\n</table>\n</div>"
     },
     "execution_count": 2,
     "metadata": {},
     "output_type": "execute_result"
    }
   ],
   "source": [
    "df = pd.read_csv(\"assets/csv/Groceries_dataset.csv\")  # import data from csv\n",
    "df.head()"
   ],
   "metadata": {
    "collapsed": false,
    "ExecuteTime": {
     "start_time": "2023-04-16T23:13:44.727803Z",
     "end_time": "2023-04-16T23:13:44.790398Z"
    }
   }
  },
  {
   "cell_type": "code",
   "execution_count": 3,
   "outputs": [
    {
     "data": {
      "text/plain": "Member_number       int64\nDate               object\nitemDescription    object\ndtype: object"
     },
     "execution_count": 3,
     "metadata": {},
     "output_type": "execute_result"
    }
   ],
   "source": [
    "df.dtypes  # check data types"
   ],
   "metadata": {
    "collapsed": false,
    "ExecuteTime": {
     "start_time": "2023-04-16T23:13:45.392400Z",
     "end_time": "2023-04-16T23:13:45.429851Z"
    }
   }
  },
  {
   "cell_type": "code",
   "execution_count": 4,
   "outputs": [
    {
     "name": "stdout",
     "output_type": "stream",
     "text": [
      "   Member_number       Date   itemDescription\n",
      "0           1808 2015-07-21    tropical fruit\n",
      "1           2552 2015-01-05        whole milk\n",
      "2           2300 2015-09-19         pip fruit\n",
      "3           1187 2015-12-12  other vegetables\n",
      "4           3037 2015-02-01        whole milk\n"
     ]
    },
    {
     "data": {
      "text/plain": "Member_number               int64\nDate               datetime64[ns]\nitemDescription            object\ndtype: object"
     },
     "execution_count": 4,
     "metadata": {},
     "output_type": "execute_result"
    }
   ],
   "source": [
    "df['Date'] = pd.to_datetime(df['Date'], format='%d-%m-%Y')  # convert date to datetime\n",
    "print(df.head())\n",
    "df.dtypes  # check data types"
   ],
   "metadata": {
    "collapsed": false,
    "ExecuteTime": {
     "start_time": "2023-04-16T23:13:45.984575Z",
     "end_time": "2023-04-16T23:13:46.054002Z"
    }
   }
  },
  {
   "cell_type": "code",
   "execution_count": 5,
   "outputs": [
    {
     "name": "stdout",
     "output_type": "stream",
     "text": [
      "preservation products    1\n",
      "kitchen utensil          1\n",
      "baby cosmetics           3\n",
      "bags                     4\n",
      "frozen chicken           5\n",
      "Name: itemDescription, dtype: int64\n"
     ]
    },
    {
     "data": {
      "text/plain": "yogurt              1334\nsoda                1514\nrolls/buns          1716\nother vegetables    1898\nwhole milk          2502\nName: itemDescription, dtype: int64"
     },
     "execution_count": 5,
     "metadata": {},
     "output_type": "execute_result"
    }
   ],
   "source": [
    "print(df.itemDescription.value_counts().sort_values(ascending=True).head())\n",
    "df.itemDescription.value_counts().sort_values(ascending=True).tail()  # find frequency of most common items"
   ],
   "metadata": {
    "collapsed": false,
    "ExecuteTime": {
     "start_time": "2023-04-16T23:13:46.498624Z",
     "end_time": "2023-04-16T23:13:46.546020Z"
    }
   }
  },
  {
   "cell_type": "code",
   "execution_count": 6,
   "outputs": [
    {
     "data": {
      "text/plain": "1.9931963010876335"
     },
     "execution_count": 6,
     "metadata": {},
     "output_type": "execute_result"
    }
   ],
   "source": [
    "(df['Date'].max()-df['Date'].min())/np.timedelta64(1,'Y')  # find time span of data"
   ],
   "metadata": {
    "collapsed": false,
    "ExecuteTime": {
     "start_time": "2023-04-16T23:13:47.063932Z",
     "end_time": "2023-04-16T23:13:47.092791Z"
    }
   }
  },
  {
   "cell_type": "code",
   "execution_count": 7,
   "outputs": [
    {
     "name": "stdout",
     "output_type": "stream",
     "text": [
      "   Member_number       Date        itemDescription  itemIndex\n",
      "0           2226 2014-01-01          bottled water         12\n",
      "1           1789 2014-01-01                candles         18\n",
      "2           2610 2014-01-01          domestic eggs         49\n",
      "3           3681 2014-01-01                 dishes         47\n",
      "4           3942 2014-01-01  Instant food products          0\n"
     ]
    }
   ],
   "source": [
    "df['itemIndex'] = df.groupby('itemDescription').ngroup()  # create index for items\n",
    "df.sort_values(by=['Date'], inplace=True, ignore_index=True)  # sort by date\n",
    "print(df.head())"
   ],
   "metadata": {
    "collapsed": false,
    "ExecuteTime": {
     "start_time": "2023-04-16T23:13:47.559617Z",
     "end_time": "2023-04-16T23:13:47.637744Z"
    }
   }
  },
  {
   "cell_type": "code",
   "execution_count": 8,
   "outputs": [
    {
     "name": "stdout",
     "output_type": "stream",
     "text": [
      "datetime64[ns]\n",
      "object\n"
     ]
    }
   ],
   "source": [
    "dates = pd.Series(df['Date'].unique())  # get unique date values\n",
    "dates.name = \"Date\"\n",
    "print(dates.dtype)\n",
    "items = df['itemDescription'].unique()  # get unique item description values\n",
    "print(items.dtype)"
   ],
   "metadata": {
    "collapsed": false,
    "ExecuteTime": {
     "start_time": "2023-04-16T23:13:48.001984Z",
     "end_time": "2023-04-16T23:13:48.034058Z"
    }
   }
  },
  {
   "cell_type": "code",
   "execution_count": 9,
   "outputs": [
    {
     "data": {
      "text/plain": "2014-07-17    6\n2014-06-07    5\n2014-10-13    5\n2014-12-26    5\n2014-11-03    5\n             ..\n2015-04-13    1\n2014-06-14    1\n2014-06-10    1\n2015-04-16    1\n2015-12-30    1\nName: bottled water, Length: 510, dtype: int64"
     },
     "execution_count": 9,
     "metadata": {},
     "output_type": "execute_result"
    }
   ],
   "source": [
    "data_series = []\n",
    "for item in items:\n",
    "    item_dates = df[df[\"itemDescription\"] == item].Date.value_counts()\n",
    "    item_dates.name = item\n",
    "\n",
    "    data_series.append(item_dates)\n",
    "data_series[0]"
   ],
   "metadata": {
    "collapsed": false,
    "ExecuteTime": {
     "start_time": "2023-04-16T23:13:48.483663Z",
     "end_time": "2023-04-16T23:13:49.046766Z"
    }
   }
  },
  {
   "cell_type": "code",
   "execution_count": 10,
   "outputs": [
    {
     "data": {
      "text/plain": "date        bottled water  candles  domestic eggs  dishes  \\\n2014-01-01            4.0      1.0            1.0     1.0   \n2014-01-02            NaN      NaN            1.0     1.0   \n2014-01-03            NaN      NaN            2.0     1.0   \n2014-01-04            2.0      NaN            NaN     NaN   \n2014-01-05            3.0      NaN            1.0     NaN   \n\ndate        Instant food products  tropical fruit  shopping bags  butter  \\\n2014-01-01                    2.0             1.0            2.0     1.0   \n2014-01-02                    NaN             1.0            NaN     1.0   \n2014-01-03                    NaN             1.0            1.0     2.0   \n2014-01-04                    NaN             1.0            1.0     1.0   \n2014-01-05                    1.0             1.0            1.0     NaN   \n\ndate        other vegetables  whole milk  ...  ready soups  organic products  \\\n2014-01-01               3.0         2.0  ...          NaN               NaN   \n2014-01-02               2.0         4.0  ...          NaN               NaN   \n2014-01-03               1.0         2.0  ...          NaN               NaN   \n2014-01-04               4.0         NaN  ...          NaN               NaN   \n2014-01-05               1.0         5.0  ...          NaN               NaN   \n\ndate        skin care  frozen fruits  cream  frozen chicken  \\\n2014-01-01        NaN            NaN    NaN             NaN   \n2014-01-02        NaN            NaN    NaN             NaN   \n2014-01-03        NaN            NaN    NaN             NaN   \n2014-01-04        NaN            NaN    NaN             NaN   \n2014-01-05        NaN            NaN    NaN             NaN   \n\ndate        cooking chocolate  bathroom cleaner  flower soil/fertilizer  \\\n2014-01-01                NaN               NaN                     NaN   \n2014-01-02                NaN               NaN                     NaN   \n2014-01-03                NaN               NaN                     NaN   \n2014-01-04                NaN               NaN                     NaN   \n2014-01-05                NaN               NaN                     NaN   \n\ndate        kitchen utensil  \n2014-01-01              NaN  \n2014-01-02              NaN  \n2014-01-03              NaN  \n2014-01-04              NaN  \n2014-01-05              NaN  \n\n[5 rows x 167 columns]",
      "text/html": "<div>\n<style scoped>\n    .dataframe tbody tr th:only-of-type {\n        vertical-align: middle;\n    }\n\n    .dataframe tbody tr th {\n        vertical-align: top;\n    }\n\n    .dataframe thead th {\n        text-align: right;\n    }\n</style>\n<table border=\"1\" class=\"dataframe\">\n  <thead>\n    <tr style=\"text-align: right;\">\n      <th>date</th>\n      <th>bottled water</th>\n      <th>candles</th>\n      <th>domestic eggs</th>\n      <th>dishes</th>\n      <th>Instant food products</th>\n      <th>tropical fruit</th>\n      <th>shopping bags</th>\n      <th>butter</th>\n      <th>other vegetables</th>\n      <th>whole milk</th>\n      <th>...</th>\n      <th>ready soups</th>\n      <th>organic products</th>\n      <th>skin care</th>\n      <th>frozen fruits</th>\n      <th>cream</th>\n      <th>frozen chicken</th>\n      <th>cooking chocolate</th>\n      <th>bathroom cleaner</th>\n      <th>flower soil/fertilizer</th>\n      <th>kitchen utensil</th>\n    </tr>\n  </thead>\n  <tbody>\n    <tr>\n      <th>2014-01-01</th>\n      <td>4.0</td>\n      <td>1.0</td>\n      <td>1.0</td>\n      <td>1.0</td>\n      <td>2.0</td>\n      <td>1.0</td>\n      <td>2.0</td>\n      <td>1.0</td>\n      <td>3.0</td>\n      <td>2.0</td>\n      <td>...</td>\n      <td>NaN</td>\n      <td>NaN</td>\n      <td>NaN</td>\n      <td>NaN</td>\n      <td>NaN</td>\n      <td>NaN</td>\n      <td>NaN</td>\n      <td>NaN</td>\n      <td>NaN</td>\n      <td>NaN</td>\n    </tr>\n    <tr>\n      <th>2014-01-02</th>\n      <td>NaN</td>\n      <td>NaN</td>\n      <td>1.0</td>\n      <td>1.0</td>\n      <td>NaN</td>\n      <td>1.0</td>\n      <td>NaN</td>\n      <td>1.0</td>\n      <td>2.0</td>\n      <td>4.0</td>\n      <td>...</td>\n      <td>NaN</td>\n      <td>NaN</td>\n      <td>NaN</td>\n      <td>NaN</td>\n      <td>NaN</td>\n      <td>NaN</td>\n      <td>NaN</td>\n      <td>NaN</td>\n      <td>NaN</td>\n      <td>NaN</td>\n    </tr>\n    <tr>\n      <th>2014-01-03</th>\n      <td>NaN</td>\n      <td>NaN</td>\n      <td>2.0</td>\n      <td>1.0</td>\n      <td>NaN</td>\n      <td>1.0</td>\n      <td>1.0</td>\n      <td>2.0</td>\n      <td>1.0</td>\n      <td>2.0</td>\n      <td>...</td>\n      <td>NaN</td>\n      <td>NaN</td>\n      <td>NaN</td>\n      <td>NaN</td>\n      <td>NaN</td>\n      <td>NaN</td>\n      <td>NaN</td>\n      <td>NaN</td>\n      <td>NaN</td>\n      <td>NaN</td>\n    </tr>\n    <tr>\n      <th>2014-01-04</th>\n      <td>2.0</td>\n      <td>NaN</td>\n      <td>NaN</td>\n      <td>NaN</td>\n      <td>NaN</td>\n      <td>1.0</td>\n      <td>1.0</td>\n      <td>1.0</td>\n      <td>4.0</td>\n      <td>NaN</td>\n      <td>...</td>\n      <td>NaN</td>\n      <td>NaN</td>\n      <td>NaN</td>\n      <td>NaN</td>\n      <td>NaN</td>\n      <td>NaN</td>\n      <td>NaN</td>\n      <td>NaN</td>\n      <td>NaN</td>\n      <td>NaN</td>\n    </tr>\n    <tr>\n      <th>2014-01-05</th>\n      <td>3.0</td>\n      <td>NaN</td>\n      <td>1.0</td>\n      <td>NaN</td>\n      <td>1.0</td>\n      <td>1.0</td>\n      <td>1.0</td>\n      <td>NaN</td>\n      <td>1.0</td>\n      <td>5.0</td>\n      <td>...</td>\n      <td>NaN</td>\n      <td>NaN</td>\n      <td>NaN</td>\n      <td>NaN</td>\n      <td>NaN</td>\n      <td>NaN</td>\n      <td>NaN</td>\n      <td>NaN</td>\n      <td>NaN</td>\n      <td>NaN</td>\n    </tr>\n  </tbody>\n</table>\n<p>5 rows × 167 columns</p>\n</div>"
     },
     "execution_count": 10,
     "metadata": {},
     "output_type": "execute_result"
    }
   ],
   "source": [
    "data_frames = [s.to_frame() for s in data_series]\n",
    "df_date_item_no= pd.concat(data_frames, axis=1)  # create dataframe with item counts\n",
    "df_date_item_no = df_date_item_no.rename_axis('date', axis=1)  # rename index\n",
    "df_date_item_no.head()"
   ],
   "metadata": {
    "collapsed": false,
    "ExecuteTime": {
     "start_time": "2023-04-16T23:13:49.421952Z",
     "end_time": "2023-04-16T23:13:49.544107Z"
    }
   }
  },
  {
   "cell_type": "code",
   "execution_count": 11,
   "outputs": [
    {
     "data": {
      "text/plain": "date        bottled water  candles  domestic eggs  dishes  \\\n2014-01-01            4.0      1.0            1.0     1.0   \n2014-01-02            0.0      0.0            1.0     1.0   \n2014-01-03            0.0      0.0            2.0     1.0   \n2014-01-04            2.0      0.0            0.0     0.0   \n2014-01-05            3.0      0.0            1.0     0.0   \n\ndate        Instant food products  tropical fruit  shopping bags  butter  \\\n2014-01-01                    2.0             1.0            2.0     1.0   \n2014-01-02                    0.0             1.0            0.0     1.0   \n2014-01-03                    0.0             1.0            1.0     2.0   \n2014-01-04                    0.0             1.0            1.0     1.0   \n2014-01-05                    1.0             1.0            1.0     0.0   \n\ndate        other vegetables  whole milk  ...  ready soups  organic products  \\\n2014-01-01               3.0         2.0  ...          0.0               0.0   \n2014-01-02               2.0         4.0  ...          0.0               0.0   \n2014-01-03               1.0         2.0  ...          0.0               0.0   \n2014-01-04               4.0         0.0  ...          0.0               0.0   \n2014-01-05               1.0         5.0  ...          0.0               0.0   \n\ndate        skin care  frozen fruits  cream  frozen chicken  \\\n2014-01-01        0.0            0.0    0.0             0.0   \n2014-01-02        0.0            0.0    0.0             0.0   \n2014-01-03        0.0            0.0    0.0             0.0   \n2014-01-04        0.0            0.0    0.0             0.0   \n2014-01-05        0.0            0.0    0.0             0.0   \n\ndate        cooking chocolate  bathroom cleaner  flower soil/fertilizer  \\\n2014-01-01                0.0               0.0                     0.0   \n2014-01-02                0.0               0.0                     0.0   \n2014-01-03                0.0               0.0                     0.0   \n2014-01-04                0.0               0.0                     0.0   \n2014-01-05                0.0               0.0                     0.0   \n\ndate        kitchen utensil  \n2014-01-01              0.0  \n2014-01-02              0.0  \n2014-01-03              0.0  \n2014-01-04              0.0  \n2014-01-05              0.0  \n\n[5 rows x 167 columns]",
      "text/html": "<div>\n<style scoped>\n    .dataframe tbody tr th:only-of-type {\n        vertical-align: middle;\n    }\n\n    .dataframe tbody tr th {\n        vertical-align: top;\n    }\n\n    .dataframe thead th {\n        text-align: right;\n    }\n</style>\n<table border=\"1\" class=\"dataframe\">\n  <thead>\n    <tr style=\"text-align: right;\">\n      <th>date</th>\n      <th>bottled water</th>\n      <th>candles</th>\n      <th>domestic eggs</th>\n      <th>dishes</th>\n      <th>Instant food products</th>\n      <th>tropical fruit</th>\n      <th>shopping bags</th>\n      <th>butter</th>\n      <th>other vegetables</th>\n      <th>whole milk</th>\n      <th>...</th>\n      <th>ready soups</th>\n      <th>organic products</th>\n      <th>skin care</th>\n      <th>frozen fruits</th>\n      <th>cream</th>\n      <th>frozen chicken</th>\n      <th>cooking chocolate</th>\n      <th>bathroom cleaner</th>\n      <th>flower soil/fertilizer</th>\n      <th>kitchen utensil</th>\n    </tr>\n  </thead>\n  <tbody>\n    <tr>\n      <th>2014-01-01</th>\n      <td>4.0</td>\n      <td>1.0</td>\n      <td>1.0</td>\n      <td>1.0</td>\n      <td>2.0</td>\n      <td>1.0</td>\n      <td>2.0</td>\n      <td>1.0</td>\n      <td>3.0</td>\n      <td>2.0</td>\n      <td>...</td>\n      <td>0.0</td>\n      <td>0.0</td>\n      <td>0.0</td>\n      <td>0.0</td>\n      <td>0.0</td>\n      <td>0.0</td>\n      <td>0.0</td>\n      <td>0.0</td>\n      <td>0.0</td>\n      <td>0.0</td>\n    </tr>\n    <tr>\n      <th>2014-01-02</th>\n      <td>0.0</td>\n      <td>0.0</td>\n      <td>1.0</td>\n      <td>1.0</td>\n      <td>0.0</td>\n      <td>1.0</td>\n      <td>0.0</td>\n      <td>1.0</td>\n      <td>2.0</td>\n      <td>4.0</td>\n      <td>...</td>\n      <td>0.0</td>\n      <td>0.0</td>\n      <td>0.0</td>\n      <td>0.0</td>\n      <td>0.0</td>\n      <td>0.0</td>\n      <td>0.0</td>\n      <td>0.0</td>\n      <td>0.0</td>\n      <td>0.0</td>\n    </tr>\n    <tr>\n      <th>2014-01-03</th>\n      <td>0.0</td>\n      <td>0.0</td>\n      <td>2.0</td>\n      <td>1.0</td>\n      <td>0.0</td>\n      <td>1.0</td>\n      <td>1.0</td>\n      <td>2.0</td>\n      <td>1.0</td>\n      <td>2.0</td>\n      <td>...</td>\n      <td>0.0</td>\n      <td>0.0</td>\n      <td>0.0</td>\n      <td>0.0</td>\n      <td>0.0</td>\n      <td>0.0</td>\n      <td>0.0</td>\n      <td>0.0</td>\n      <td>0.0</td>\n      <td>0.0</td>\n    </tr>\n    <tr>\n      <th>2014-01-04</th>\n      <td>2.0</td>\n      <td>0.0</td>\n      <td>0.0</td>\n      <td>0.0</td>\n      <td>0.0</td>\n      <td>1.0</td>\n      <td>1.0</td>\n      <td>1.0</td>\n      <td>4.0</td>\n      <td>0.0</td>\n      <td>...</td>\n      <td>0.0</td>\n      <td>0.0</td>\n      <td>0.0</td>\n      <td>0.0</td>\n      <td>0.0</td>\n      <td>0.0</td>\n      <td>0.0</td>\n      <td>0.0</td>\n      <td>0.0</td>\n      <td>0.0</td>\n    </tr>\n    <tr>\n      <th>2014-01-05</th>\n      <td>3.0</td>\n      <td>0.0</td>\n      <td>1.0</td>\n      <td>0.0</td>\n      <td>1.0</td>\n      <td>1.0</td>\n      <td>1.0</td>\n      <td>0.0</td>\n      <td>1.0</td>\n      <td>5.0</td>\n      <td>...</td>\n      <td>0.0</td>\n      <td>0.0</td>\n      <td>0.0</td>\n      <td>0.0</td>\n      <td>0.0</td>\n      <td>0.0</td>\n      <td>0.0</td>\n      <td>0.0</td>\n      <td>0.0</td>\n      <td>0.0</td>\n    </tr>\n  </tbody>\n</table>\n<p>5 rows × 167 columns</p>\n</div>"
     },
     "execution_count": 11,
     "metadata": {},
     "output_type": "execute_result"
    }
   ],
   "source": [
    "df_date_item_no.fillna(0, inplace=True)  # fill NaN values with 0\n",
    "df_date_item_no.to_csv(\"assets/csv/df_date_item_no.csv\")  # save to csv\n",
    "df_date_item_no.head()"
   ],
   "metadata": {
    "collapsed": false,
    "ExecuteTime": {
     "start_time": "2023-04-16T23:13:50.216860Z",
     "end_time": "2023-04-16T23:13:50.326971Z"
    }
   }
  },
  {
   "cell_type": "code",
   "execution_count": null,
   "outputs": [],
   "source": [],
   "metadata": {
    "collapsed": false
   }
  }
 ],
 "metadata": {
  "kernelspec": {
   "display_name": "Python 3",
   "language": "python",
   "name": "python3"
  },
  "language_info": {
   "codemirror_mode": {
    "name": "ipython",
    "version": 2
   },
   "file_extension": ".py",
   "mimetype": "text/x-python",
   "name": "python",
   "nbconvert_exporter": "python",
   "pygments_lexer": "ipython2",
   "version": "2.7.6"
  }
 },
 "nbformat": 4,
 "nbformat_minor": 0
}
